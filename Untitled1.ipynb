{
  "nbformat": 4,
  "nbformat_minor": 0,
  "metadata": {
    "colab": {
      "provenance": [],
      "authorship_tag": "ABX9TyM4gHXJBPI8P28k+6qSNOu2",
      "include_colab_link": true
    },
    "kernelspec": {
      "name": "python3",
      "display_name": "Python 3"
    },
    "language_info": {
      "name": "python"
    }
  },
  "cells": [
    {
      "cell_type": "markdown",
      "metadata": {
        "id": "view-in-github",
        "colab_type": "text"
      },
      "source": [
        "<a href=\"https://colab.research.google.com/github/AwinOthman/Bisectiom-method/blob/main/Untitled1.ipynb\" target=\"_parent\"><img src=\"https://colab.research.google.com/assets/colab-badge.svg\" alt=\"Open In Colab\"/></a>"
      ]
    },
    {
      "cell_type": "code",
      "source": [
        "def f(x):\n",
        "    return x**2-49\n",
        "\n",
        "a=float(input(\"Enter value of a:  \"))\n",
        "b=float(input(\"Enter value of b:  \"))\n",
        "i=int(input(\"Enter np.of iterations:  \"))\n",
        "count=0\n",
        "while(count<=i):\n",
        "          c=(a+b)/2\n",
        "          a1=f(a)\n",
        "          c1=f(c)\n",
        "          b1=f(b)\n",
        "          if(f(c)*f(b) < 0):\n",
        "              a=c\n",
        "\n",
        "          if(c1*a1  < 0):\n",
        "              b=c\n",
        "          count=count+1\n",
        "          print(\"\\t count is : a    7b    c  f(a)    f(b)     f(c)\", count,   a ,   b,   c ,  f(a),   f(b),    f(c))\n",
        "          print(\"The final value of root after all iterations is :\" , c)\n"
      ],
      "metadata": {
        "colab": {
          "base_uri": "https://localhost:8080/"
        },
        "id": "YitUvH2vFilX",
        "outputId": "5bf08629-fd09-4e29-80bc-0675e267415b"
      },
      "execution_count": 6,
      "outputs": [
        {
          "output_type": "stream",
          "name": "stdout",
          "text": [
            "Enter value of a3\n",
            "Enter value of b6\n",
            "Enter np.of iterations8\n",
            "\t count is : a    7b    c  f(a)    f(b)     f(c) 1 3.0 6.0 4.5 -40.0 -13.0 -28.75\n",
            "The final value of root after all iterations is : 4.5\n",
            "\t count is : a    7b    c  f(a)    f(b)     f(c) 2 3.0 6.0 4.5 -40.0 -13.0 -28.75\n",
            "The final value of root after all iterations is : 4.5\n",
            "\t count is : a    7b    c  f(a)    f(b)     f(c) 3 3.0 6.0 4.5 -40.0 -13.0 -28.75\n",
            "The final value of root after all iterations is : 4.5\n",
            "\t count is : a    7b    c  f(a)    f(b)     f(c) 4 3.0 6.0 4.5 -40.0 -13.0 -28.75\n",
            "The final value of root after all iterations is : 4.5\n",
            "\t count is : a    7b    c  f(a)    f(b)     f(c) 5 3.0 6.0 4.5 -40.0 -13.0 -28.75\n",
            "The final value of root after all iterations is : 4.5\n",
            "\t count is : a    7b    c  f(a)    f(b)     f(c) 6 3.0 6.0 4.5 -40.0 -13.0 -28.75\n",
            "The final value of root after all iterations is : 4.5\n",
            "\t count is : a    7b    c  f(a)    f(b)     f(c) 7 3.0 6.0 4.5 -40.0 -13.0 -28.75\n",
            "The final value of root after all iterations is : 4.5\n",
            "\t count is : a    7b    c  f(a)    f(b)     f(c) 8 3.0 6.0 4.5 -40.0 -13.0 -28.75\n",
            "The final value of root after all iterations is : 4.5\n",
            "\t count is : a    7b    c  f(a)    f(b)     f(c) 9 3.0 6.0 4.5 -40.0 -13.0 -28.75\n",
            "The final value of root after all iterations is : 4.5\n"
          ]
        }
      ]
    }
  ]
}